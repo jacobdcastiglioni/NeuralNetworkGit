{
 "cells": [
  {
   "cell_type": "code",
   "execution_count": 2,
   "metadata": {
    "collapsed": true
   },
   "outputs": [],
   "source": [
    "import numpy as np\n",
    "import pandas as pd\n",
    "import matplotlib.pyplot as plt\n",
    "%matplotlib inline"
   ]
  },
  {
   "cell_type": "code",
   "execution_count": null,
   "metadata": {
    "collapsed": true
   },
   "outputs": [],
   "source": []
  },
  {
   "cell_type": "code",
   "execution_count": 3,
   "metadata": {
    "collapsed": true
   },
   "outputs": [],
   "source": [
    "data = np.array([[3,  1.5, 1], \n",
    "                 [2,  1,   0], \n",
    "                 [4,  1.5, 1], \n",
    "                 [2.5,  1, 0],\n",
    "                 [3.5,0.5, 1],\n",
    "                 [2,  0.5, 0],\n",
    "                 [5.5,1,   1],\n",
    "                 [1,  1,   0]])"
   ]
  },
  {
   "cell_type": "code",
   "execution_count": 4,
   "metadata": {
    "collapsed": true
   },
   "outputs": [],
   "source": [
    "X = data[:, 0:2]\n",
    "y = data[:,2:3]"
   ]
  },
  {
   "cell_type": "code",
   "execution_count": 5,
   "metadata": {
    "collapsed": true
   },
   "outputs": [],
   "source": [
    "def sigmoid(x, derif=False):\n",
    "    if derif==True:\n",
    "        return sigmoid(x)*(1-sigmoid(x))\n",
    "    return 1/(1+np.exp(-x))"
   ]
  },
  {
   "cell_type": "code",
   "execution_count": 97,
   "metadata": {},
   "outputs": [
    {
     "data": {
      "text/plain": [
       "[<matplotlib.lines.Line2D at 0x12d29f390>]"
      ]
     },
     "execution_count": 97,
     "metadata": {},
     "output_type": "execute_result"
    },
    {
     "data": {
      "image/png": "[encoded data removed]",
      "text/plain": [
       "<matplotlib.figure.Figure at 0x1299cbbe0>"
      ]
     },
     "metadata": {},
     "output_type": "display_data"
    }
   ],
   "source": [
    "W1 = np.random.random((1,3))\n",
    "W2 = np.random.random((1,2))\n",
    "alpha = 0.01\n",
    "costs = []\n",
    "\n",
    "for i in range(10000):\n",
    "    ri = np.random.randint(len(X))\n",
    "    m = X[ri]\n",
    "    \n",
    "    m = m.reshape(1, len(m))\n",
    "    \n",
    "    #adding the bias term\n",
    "    m = np.column_stack([-np.ones(shape=(len(m), 1)), m])\n",
    "    \n",
    "    #I2 = m*W1\n",
    "    I2 = m.dot(W1.T)\n",
    "    #adding the bias term\n",
    "    #I2 = np.column_stack([-np.ones(shape=(len(I2), 1)), I2])\n",
    "    #Y2 = sigmoid(np.sum(I2))\n",
    "    Y2 = sigmoid(I2)\n",
    "    \n",
    "    Y2 = np.column_stack([-np.ones(shape=(len(Y2), 1)), Y2])\n",
    "    I3 = Y2.dot(W2.T)\n",
    "    #I3 = Y2*W2\n",
    "    \n",
    "    #Hypothesis\n",
    "    Y3 = sigmoid(I3)\n",
    "    J = (1/2)*np.square(y[ri] - Y3)\n",
    "    \n",
    "    costs.append(np.asscalar(J))\n",
    "    #costs.append(J)\n",
    "    \n",
    "    delta3 = -(y[ri] - Y3) * sigmoid(I3, True)\n",
    "    D3 = np.sum(delta3*Y2)\n",
    "    \n",
    "    #W2 = W2 + alpha*D3\n",
    "    W2 = W2 + alpha*delta3*Y2\n",
    "    \n",
    "    delta2 = -1*(np.sum(delta3*W2)) * sigmoid(I2, True)\n",
    "    #D2 = -1*np.sum(delta2*m)*sigmoid(I2, True)\n",
    "    \n",
    "    #W2 = W2 + alpha*D3\n",
    "    #W1 = W1 - alpha*D2\n",
    "    W1 = W1 + alpha*delta2*m\n",
    "\n",
    "plt.plot(costs)"
   ]
  },
  {
   "cell_type": "code",
   "execution_count": 83,
   "metadata": {},
   "outputs": [
    {
     "data": {
      "text/plain": [
       "0.00039826262389863797"
      ]
     },
     "execution_count": 83,
     "metadata": {},
     "output_type": "execute_result"
    }
   ],
   "source": [
    "-1*(np.sum(delta3*W2))"
   ]
  },
  {
   "cell_type": "code",
   "execution_count": 84,
   "metadata": {},
   "outputs": [
    {
     "data": {
      "text/plain": [
       "array([[ 0.00453146]])"
      ]
     },
     "execution_count": 84,
     "metadata": {},
     "output_type": "execute_result"
    }
   ],
   "source": [
    "sigmoid(I2, True)"
   ]
  },
  {
   "cell_type": "code",
   "execution_count": 87,
   "metadata": {
    "scrolled": true
   },
   "outputs": [
    {
     "data": {
      "text/plain": [
       "array([[ -1.80471012e-06,   9.92590567e-06,   1.80471012e-06]])"
      ]
     },
     "execution_count": 87,
     "metadata": {},
     "output_type": "execute_result"
    }
   ],
   "source": [
    "delta2*m"
   ]
  },
  {
   "cell_type": "code",
   "execution_count": 86,
   "metadata": {},
   "outputs": [
    {
     "data": {
      "text/plain": [
       "array([[-1. ,  5.5,  1. ]])"
      ]
     },
     "execution_count": 86,
     "metadata": {},
     "output_type": "execute_result"
    }
   ],
   "source": [
    "m"
   ]
  },
  {
   "cell_type": "code",
   "execution_count": 75,
   "metadata": {},
   "outputs": [
    {
     "data": {
      "text/plain": [
       "array([[-0.31222952]])"
      ]
     },
     "execution_count": 75,
     "metadata": {},
     "output_type": "execute_result"
    }
   ],
   "source": [
    "Y2.dot(W2.T)"
   ]
  },
  {
   "cell_type": "code",
   "execution_count": null,
   "metadata": {
    "collapsed": true
   },
   "outputs": [],
   "source": []
  }
 ],
 "metadata": {
  "kernelspec": {
   "display_name": "Python 3",
   "language": "python",
   "name": "python3"
  },
  "language_info": {
   "codemirror_mode": {
    "name": "ipython",
    "version": 3
   },
   "file_extension": ".py",
   "mimetype": "text/x-python",
   "name": "python",
   "nbconvert_exporter": "python",
   "pygments_lexer": "ipython3",
   "version": "3.6.1"
  }
 },
 "nbformat": 4,
 "nbformat_minor": 2
}
