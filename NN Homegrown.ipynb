{
 "cells": [
  {
   "cell_type": "code",
   "execution_count": 183,
   "metadata": {
    "collapsed": true
   },
   "outputs": [],
   "source": [
    "import numpy as np\n",
    "import pandas as pd\n",
    "import matplotlib.pyplot as plt\n",
    "%matplotlib inline"
   ]
  },
  {
   "cell_type": "code",
   "execution_count": 195,
   "metadata": {
    "collapsed": true
   },
   "outputs": [],
   "source": [
    "#Create Data\n",
    "data = np.array([[3,  1.5, 1], \n",
    "         [2,  1,   0], \n",
    "         [4,  1.5, 1], \n",
    "         [3,  1,   0],\n",
    "         [3.5,0.5, 1],\n",
    "         [2,  0.5, 0],\n",
    "         [5.5,1,   1],\n",
    "         [1,  1,   0]])"
   ]
  },
  {
   "cell_type": "code",
   "execution_count": 221,
   "metadata": {},
   "outputs": [
    {
     "data": {
      "text/plain": [
       "array([[ 3. ,  1.5],\n",
       "       [ 2. ,  1. ],\n",
       "       [ 4. ,  1.5],\n",
       "       [ 3. ,  1. ],\n",
       "       [ 3.5,  0.5],\n",
       "       [ 2. ,  0.5],\n",
       "       [ 5.5,  1. ],\n",
       "       [ 1. ,  1. ]])"
      ]
     },
     "execution_count": 221,
     "metadata": {},
     "output_type": "execute_result"
    }
   ],
   "source": [
    "#Create X matrix and add bias\n",
    "#X = np.column_stack([np.ones(shape=(len(data), 1)),data[:,0:2]])\n",
    "X = data[:,0:2]\n",
    "X"
   ]
  },
  {
   "cell_type": "code",
   "execution_count": 197,
   "metadata": {},
   "outputs": [
    {
     "data": {
      "text/plain": [
       "array([[ 1.],\n",
       "       [ 0.],\n",
       "       [ 1.],\n",
       "       [ 0.],\n",
       "       [ 1.],\n",
       "       [ 0.],\n",
       "       [ 1.],\n",
       "       [ 0.]])"
      ]
     },
     "execution_count": 197,
     "metadata": {},
     "output_type": "execute_result"
    }
   ],
   "source": [
    "#Create y vector\n",
    "y = data[:,2:3]\n",
    "y"
   ]
  },
  {
   "cell_type": "code",
   "execution_count": 9,
   "metadata": {
    "collapsed": true
   },
   "outputs": [],
   "source": [
    "#Initialize random seed\n",
    "np.random.seed(1)"
   ]
  },
  {
   "cell_type": "code",
   "execution_count": 10,
   "metadata": {
    "collapsed": true
   },
   "outputs": [],
   "source": [
    "#Define activation function\n",
    "def sigmoid(x):\n",
    "    return 1/(1+np.exp(-x))"
   ]
  },
  {
   "cell_type": "markdown",
   "metadata": {},
   "source": [
    "## I am going to implenent a 3 layer nn\n",
    "## L1 =  2 nodes, L2 = 2 nodes, L3 = 1 node"
   ]
  },
  {
   "cell_type": "code",
   "execution_count": 219,
   "metadata": {},
   "outputs": [
    {
     "data": {
      "text/plain": [
       "array([[ 0.74137667,  0.89784778],\n",
       "       [ 0.80709466,  0.24804995]])"
      ]
     },
     "execution_count": 219,
     "metadata": {},
     "output_type": "execute_result"
    }
   ],
   "source": [
    "#Randomly initilize theta1\n",
    "theta1 = np.random.rand(2,2)\n",
    "#Add bias\n",
    "#theta1 = np.column_stack([np.ones(shape=(len(theta1),1)), theta1])\n",
    "theta1"
   ]
  },
  {
   "cell_type": "code",
   "execution_count": 218,
   "metadata": {},
   "outputs": [
    {
     "data": {
      "text/plain": [
       "array([[ 0.05234398,  0.31397808]])"
      ]
     },
     "execution_count": 218,
     "metadata": {},
     "output_type": "execute_result"
    }
   ],
   "source": [
    "#Randomly initialize theta2\n",
    "theta2 = np.random.rand(1,2)\n",
    "#Add bias\n",
    "# theta2 = np.column_stack([np.ones(shape=(len(theta2), 1)), theta2])\n",
    "theta2"
   ]
  },
  {
   "cell_type": "code",
   "execution_count": 207,
   "metadata": {
    "scrolled": false
   },
   "outputs": [
    {
     "data": {
      "text/plain": [
       "[<matplotlib.lines.Line2D at 0x1245e5780>]"
      ]
     },
     "execution_count": 207,
     "metadata": {},
     "output_type": "execute_result"
    },
    {
     "data": {
      "image/png": "[encoded data removed]",
      "text/plain": [
       "<matplotlib.figure.Figure at 0x1238c9e48>"
      ]
     },
     "metadata": {},
     "output_type": "display_data"
    }
   ],
   "source": [
    "#Randomly initilize theta1\n",
    "# theta1 = np.random.rand(2,2)\n",
    "# #Add bias\n",
    "# theta1 = np.column_stack([np.ones(shape=(len(theta1),1)), theta1])\n",
    "\n",
    "#Randomly initialize theta2\n",
    "theta2 = np.random.rand(1,2)\n",
    "#Add bias\n",
    "# theta2 = np.column_stack([np.ones(shape=(len(theta2), 1)), theta2])\n",
    "# theta2\n",
    "\n",
    "b = 1\n",
    "\n",
    "#Training loop\n",
    "alpha = 0.01\n",
    "costs = []\n",
    "for i in range(10000):\n",
    "    #Create a random index\n",
    "    ri = np.random.randint(len(X))\n",
    "    \n",
    "    #Randomly selects the mth example from data\n",
    "    m = X[ri]\n",
    "    \n",
    "    #Multiplty m by theta1 to get z_2 value\n",
    "    z2 = np.sum(theta1*m, axis=1)\n",
    "    #Reshape so matrix is appropiate dimensions\n",
    "    z2 = z2.reshape(1, len(z2))\n",
    "    \n",
    "    #Apply activation to z2 to get a2\n",
    "    a2 = sigmoid(z2)\n",
    "    \n",
    "    #Add bias to a2\n",
    "    a2 = np.column_stack([np.ones(1), a2])\n",
    "    \n",
    "    #Multiply a3 by theta2 to get z3\n",
    "    z3 = np.sum(theta2*a2, axis=1)\n",
    "    #Reshape so matrix is appropiate dimensions\n",
    "    z3 = z3.reshape(1, len(z3))\n",
    "    \n",
    "    #Hypothesis\n",
    "    a3 = sigmoid(z3)\n",
    "    \n",
    "    #Cost (error sqaured)\n",
    "    cost = np.square(a3-y[ri])\n",
    "    \n",
    "    costs.append(np.asscalar(cost[0]))\n",
    "    \n",
    "    #Compute derivative of a3\n",
    "    d3 = a3-y[ri]\n",
    "    \n",
    "    #Compute derivative of a2 with repect to derivative of hypothesis(a3)\n",
    "    d2 = theta2*d3\n",
    "    \n",
    "    #Im not sure why but bias always remain 1?\n",
    "    #d2[0][0] = 1\n",
    "    \n",
    "    #Compute derivative of X with repect to something\n",
    "    d1 = theta1*d2\n",
    "    \n",
    "    #Im not sure why but bias always remain 1?\n",
    "    #d1[:, 0:1] = 1\n",
    "    \n",
    "    #Update thetas\n",
    "    \n",
    "    theta1 = theta1 - (alpha*d1)\n",
    "    theta2 = theta2 - (alpha*d2)\n",
    "\n",
    "    #if i % 10 == 0:\n",
    "        #print(cost)\n",
    "    #Please run\n",
    "\n",
    "\n",
    "plt.plot(costs)"
   ]
  },
  {
   "cell_type": "code",
   "execution_count": 222,
   "metadata": {},
   "outputs": [
    {
     "data": {
      "text/plain": [
       "array([[ 0.74137667,  0.89784778],\n",
       "       [ 0.80709466,  0.24804995]])"
      ]
     },
     "execution_count": 222,
     "metadata": {},
     "output_type": "execute_result"
    }
   ],
   "source": [
    "theta1"
   ]
  },
  {
   "cell_type": "code",
   "execution_count": 224,
   "metadata": {},
   "outputs": [
    {
     "data": {
      "text/plain": [
       "array([ 3. ,  1.5])"
      ]
     },
     "execution_count": 224,
     "metadata": {},
     "output_type": "execute_result"
    }
   ],
   "source": [
    "t = X[0]\n",
    "t"
   ]
  },
  {
   "cell_type": "code",
   "execution_count": 229,
   "metadata": {},
   "outputs": [
    {
     "data": {
      "text/plain": [
       "array([ 3.57090169,  2.79335892])"
      ]
     },
     "execution_count": 229,
     "metadata": {},
     "output_type": "execute_result"
    }
   ],
   "source": [
    "f = np.sum(t*theta1, axis=1)\n",
    "f"
   ]
  },
  {
   "cell_type": "code",
   "execution_count": 232,
   "metadata": {},
   "outputs": [
    {
     "data": {
      "text/plain": [
       "array([ 4.57090169,  3.79335892])"
      ]
     },
     "execution_count": 232,
     "metadata": {},
     "output_type": "execute_result"
    }
   ],
   "source": [
    "f + 1"
   ]
  },
  {
   "cell_type": "code",
   "execution_count": null,
   "metadata": {},
   "outputs": [],
   "source": []
  },
  {
   "cell_type": "code",
   "execution_count": null,
   "metadata": {
    "collapsed": true
   },
   "outputs": [],
   "source": []
  }
 ],
 "metadata": {
  "kernelspec": {
   "display_name": "Python 3",
   "language": "python",
   "name": "python3"
  },
  "language_info": {
   "codemirror_mode": {
    "name": "ipython",
    "version": 3
   },
   "file_extension": ".py",
   "mimetype": "text/x-python",
   "name": "python",
   "nbconvert_exporter": "python",
   "pygments_lexer": "ipython3",
   "version": "3.6.1"
  }
 },
 "nbformat": 4,
 "nbformat_minor": 2
}
