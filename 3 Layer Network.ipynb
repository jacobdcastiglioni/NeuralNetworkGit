{
 "cells": [
  {
   "cell_type": "code",
   "execution_count": 1,
   "metadata": {
    "collapsed": true
   },
   "outputs": [],
   "source": [
    "import numpy as np\n",
    "import pandas as pd\n",
    "import matplotlib.pyplot as plt\n",
    "%matplotlib inline"
   ]
  },
  {
   "cell_type": "code",
   "execution_count": 2,
   "metadata": {
    "collapsed": true
   },
   "outputs": [],
   "source": [
    "data = pd.read_csv('/Users/jacobcastiglioni/Desktop/machine-learning-ex2/ex2/ex2data1.txt', header=None)\n",
    "data = data.as_matrix()"
   ]
  },
  {
   "cell_type": "code",
   "execution_count": 38,
   "metadata": {},
   "outputs": [
    {
     "data": {
      "text/plain": [
       "array([[ 0.3462366 ,  0.78024693],\n",
       "       [ 0.30286711,  0.43894998],\n",
       "       [ 0.35847409,  0.72902198],\n",
       "       [ 0.60182599,  0.86308552],\n",
       "       [ 0.79032736,  0.75344376],\n",
       "       [ 0.45083277,  0.56316372],\n",
       "       [ 0.61106665,  0.96511426],\n",
       "       [ 0.75024746,  0.46554014],\n",
       "       [ 0.76098787,  0.8742057 ],\n",
       "       [ 0.8443282 ,  0.43533393]])"
      ]
     },
     "execution_count": 38,
     "metadata": {},
     "output_type": "execute_result"
    }
   ],
   "source": [
    "y = data[:,2:3]\n",
    "#X = data[:,0:2]-np.mean(data[:,0:2])/np.std(data[:,0:2])\n",
    "X = data[:,0:2]/100\n",
    "X[0:10,:]"
   ]
  },
  {
   "cell_type": "code",
   "execution_count": 39,
   "metadata": {},
   "outputs": [
    {
     "data": {
      "text/plain": [
       "[<matplotlib.lines.Line2D at 0x11d23f9b0>]"
      ]
     },
     "execution_count": 39,
     "metadata": {},
     "output_type": "execute_result"
    },
    {
     "data": {
      "image/png": "[encoded data removed]",
      "text/plain": [
       "<matplotlib.figure.Figure at 0x11c6e4470>"
      ]
     },
     "metadata": {},
     "output_type": "display_data"
    }
   ],
   "source": [
    "np.random.seed(1)\n",
    "# X = np.array([[0,0,1],[0,1,1],[1,0,1],[1,1,1]])\n",
    "# y = np.array([[0,1,1,0]]).T\n",
    "syn0 = 2*np.random.random((2,4)) - 1\n",
    "syn1 = 2*np.random.random((4,1)) - 1\n",
    "costs = []\n",
    "alpha = .01\n",
    "for j in range(20000):\n",
    "    l1 = 1/(1+np.exp(-(np.dot(X,syn0))))\n",
    "    l2 = 1/(1+np.exp(-(np.dot(l1,syn1))))\n",
    "    \n",
    "    l2_error = y - l2\n",
    "    \n",
    "    \n",
    "    costs.append((np.asscalar((np.mean(np.abs(l2_error))))))\n",
    "    \n",
    "    l2_delta = (y - l2)*(l2*(1-l2))\n",
    "    l1_delta = l2_delta.dot(syn1.T) * (l1 * (1-l1))\n",
    "    \n",
    "    syn1 += alpha*(l1.T.dot(l2_delta))\n",
    "    syn0 += alpha*(X.T.dot(l1_delta))\n",
    "plt.plot(costs)"
   ]
  },
  {
   "cell_type": "code",
   "execution_count": 16,
   "metadata": {},
   "outputs": [],
   "source": []
  },
  {
   "cell_type": "code",
   "execution_count": null,
   "metadata": {},
   "outputs": [],
   "source": []
  },
  {
   "cell_type": "code",
   "execution_count": null,
   "metadata": {
    "collapsed": true
   },
   "outputs": [],
   "source": []
  }
 ],
 "metadata": {
  "kernelspec": {
   "display_name": "Python 3",
   "language": "python",
   "name": "python3"
  },
  "language_info": {
   "codemirror_mode": {
    "name": "ipython",
    "version": 3
   },
   "file_extension": ".py",
   "mimetype": "text/x-python",
   "name": "python",
   "nbconvert_exporter": "python",
   "pygments_lexer": "ipython3",
   "version": "3.6.1"
  }
 },
 "nbformat": 4,
 "nbformat_minor": 2
}
