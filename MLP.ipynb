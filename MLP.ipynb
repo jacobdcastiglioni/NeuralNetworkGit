{
 "cells": [
  {
   "cell_type": "code",
   "execution_count": 3,
   "metadata": {
    "collapsed": true
   },
   "outputs": [],
   "source": [
    "import numpy as np\n",
    "import pandas as pd\n",
    "import matplotlib.pyplot as plt\n",
    "%matplotlib inline"
   ]
  },
  {
   "cell_type": "code",
   "execution_count": 10,
   "metadata": {
    "collapsed": true
   },
   "outputs": [],
   "source": [
    "data = data = np.array([[3,  1.5, 1], \n",
    "                 [2,  1,   0], \n",
    "                 [4,  1.5, 1], \n",
    "                 [2.5,  1, 0],\n",
    "                 [3.5,0.5, 1],\n",
    "                 [2,  0.5, 0],\n",
    "                 [5.5,1,   1],\n",
    "                 [1,  1,   0]])"
   ]
  },
  {
   "cell_type": "code",
   "execution_count": 11,
   "metadata": {},
   "outputs": [],
   "source": [
    "X = data[:, 0:2]\n",
    "y = data[:,2:3]"
   ]
  },
  {
   "cell_type": "code",
   "execution_count": 4,
   "metadata": {
    "collapsed": true
   },
   "outputs": [],
   "source": [
    "def sigmoid(x, derif=False):\n",
    "    if derif==True:\n",
    "        return sigmoid(x)*(1-sigmoid(x))\n",
    "    return 1/(1+np.exp(-x))"
   ]
  },
  {
   "cell_type": "code",
   "execution_count": null,
   "metadata": {
    "collapsed": true
   },
   "outputs": [],
   "source": []
  },
  {
   "cell_type": "code",
   "execution_count": null,
   "metadata": {
    "collapsed": true
   },
   "outputs": [],
   "source": []
  },
  {
   "cell_type": "code",
   "execution_count": null,
   "metadata": {
    "collapsed": true
   },
   "outputs": [],
   "source": []
  },
  {
   "cell_type": "code",
   "execution_count": 35,
   "metadata": {},
   "outputs": [
    {
     "data": {
      "text/plain": [
       "[<matplotlib.lines.Line2D at 0x117042710>]"
      ]
     },
     "execution_count": 35,
     "metadata": {},
     "output_type": "execute_result"
    },
    {
     "data": {
      "image/png": "[encoded data removed]",
      "text/plain": [
       "<matplotlib.figure.Figure at 0x116f50048>"
      ]
     },
     "metadata": {},
     "output_type": "display_data"
    }
   ],
   "source": [
    "#Initialization changed - hegman12\n",
    "W1 = np.random.random((2,3))\n",
    "W2 = np.random.random((3,1))\n",
    "\n",
    "#Bias - hegman12\n",
    "bias1=-1\n",
    "bias2=-1\n",
    "\n",
    "alpha = 0.01\n",
    "costs = []\n",
    "\n",
    "#for reproducibility - hegman12\n",
    "np.random.seed(10)\n",
    "\n",
    "for i in range(20000):\n",
    "    ri = np.random.randint(len(X))\n",
    "    m = X[ri]\n",
    "\n",
    "    m = m.reshape(1, len(m))\n",
    "    #adding the bias term\n",
    "    #m = np.column_stack([-np.ones(shape=(len(m), 1)), m])\n",
    "    #I2 = m*W1\n",
    "\n",
    "    #added bias1 - hegman12\n",
    "    I2 = m.dot(W1)+bias1\n",
    "    #adding the bias term\n",
    "    #I2 = np.column_stack([-np.ones(shape=(len(I2), 1)), I2])\n",
    "    #Y2 = sigmoid(np.sum(I2))\n",
    "    Y2 = sigmoid(I2)\n",
    "    #Y2 = np.column_stack([-np.ones(shape=(len(Y2), 1)), Y2])\n",
    "\n",
    "    # I3 is your prediction\n",
    "    I3 = Y2.dot(W2)+bias2\n",
    "    #I3 = Y2*W2\n",
    "\n",
    "    #Hypothesis\n",
    "\n",
    "    #Last layer will not have activation, unless you are trying binary classification \n",
    "    # in which case squared error is not sessessary. - hegman12\n",
    "\n",
    "    Y3 = sigmoid(I3)\n",
    "    #J = (1/2)*np.square(y[ri] - Y3)\n",
    "\n",
    "    # J is your error, specifically squared error    - hegman12\n",
    "    #J = np.square(I3-y[ri])\n",
    "    J = np.square(Y3-y[ri])\n",
    "    costs.append(np.asscalar(J))\n",
    "    #costs.append(J)\n",
    "\n",
    "#     if i%1000==0:        \n",
    "#         print(\"predicted\",I3.flatten(),\"Actual\",y[ri])    \n",
    "#         print(\"error is\",J)\n",
    "\n",
    "    #derivative of squared error wrt I3 - hegman12\n",
    "    dI3 = 2*(Y3-y[ri])*J\n",
    "    np.clip(dI3,-100,100,out=dI3)\n",
    "\n",
    "    #Note dot product multiplication here - hegman12\n",
    "    dw2=np.dot(Y2.T,dI3)\n",
    "    dY2=np.dot(W2,dI3)\n",
    "    dbias2=np.sum(bias2)\n",
    "\n",
    "    #W2 = W2 + alpha*dw2\n",
    "    # See update changed - hegman12\n",
    "    W2 = W2 - alpha*dw2\n",
    "    bias2=bias2-alpha*dbias2\n",
    "\n",
    "    #Note elementwise multiplication here - hegman12\n",
    "    dI2=sigmoid(I2, True) * dY2.T\n",
    "\n",
    "    #note dot product here - hegman12\n",
    "    dw1=np.dot(m.T,dI2)\n",
    "    dbias1=np.sum(bias1)\n",
    "    \n",
    "    #dm Not nessessary, but for clarity only\n",
    "    dm=np.dot(W1,dI2.T)    \n",
    "\n",
    "    #delta2 = -1*(np.sum(delta3*W2)) * sigmoid(I2, True)\n",
    "    #D2 = -1*np.sum(delta2*m)*sigmoid(I2, True)\n",
    "\n",
    "    #W2 = W2 + alpha*D3\n",
    "    #W1 = W1 - alpha*D2\n",
    "\n",
    "    #see how update rule changed - hegman12\n",
    "    W1 = W1 - alpha*dw1\n",
    "    bias1=bias1-alpha*dbias1\n",
    "\n",
    "plt.plot(costs)"
   ]
  },
  {
   "cell_type": "code",
   "execution_count": 34,
   "metadata": {},
   "outputs": [
    {
     "data": {
      "text/plain": [
       "array([[ 0.04693143],\n",
       "       [ 0.05527459],\n",
       "       [ 0.09375042]])"
      ]
     },
     "execution_count": 34,
     "metadata": {},
     "output_type": "execute_result"
    }
   ],
   "source": [
    "Y2.T*dI3"
   ]
  },
  {
   "cell_type": "code",
   "execution_count": 33,
   "metadata": {},
   "outputs": [
    {
     "data": {
      "text/plain": [
       "array([[ 0.04693143],\n",
       "       [ 0.05527459],\n",
       "       [ 0.09375042]])"
      ]
     },
     "execution_count": 33,
     "metadata": {},
     "output_type": "execute_result"
    }
   ],
   "source": [
    "Y2.T.dot(dI3)"
   ]
  },
  {
   "cell_type": "code",
   "execution_count": 17,
   "metadata": {},
   "outputs": [
    {
     "data": {
      "text/plain": [
       "array([[ 0.30582178,  0.43235543,  2.23515017]])"
      ]
     },
     "execution_count": 17,
     "metadata": {},
     "output_type": "execute_result"
    }
   ],
   "source": [
    "m.dot(W1)+bias1"
   ]
  },
  {
   "cell_type": "code",
   "execution_count": 14,
   "metadata": {},
   "outputs": [
    {
     "data": {
      "text/plain": [
       "-5.056988325167128e-88"
      ]
     },
     "execution_count": 14,
     "metadata": {},
     "output_type": "execute_result"
    }
   ],
   "source": []
  },
  {
   "cell_type": "code",
   "execution_count": 18,
   "metadata": {},
   "outputs": [
    {
     "data": {
      "text/plain": [
       "array([[ 0.54801106,  0.49863759,  1.00068222],\n",
       "       [-0.24218929, -0.06628216,  1.23446795]])"
      ]
     },
     "execution_count": 18,
     "metadata": {},
     "output_type": "execute_result"
    }
   ],
   "source": [
    "W1"
   ]
  },
  {
   "cell_type": "code",
   "execution_count": 5,
   "metadata": {},
   "outputs": [
    {
     "data": {
      "text/plain": [
       "-0.086354956068151426"
      ]
     },
     "execution_count": 5,
     "metadata": {},
     "output_type": "execute_result"
    }
   ],
   "source": [
    "syn0 = 2*np.random.random((3,1)) - 1\n",
    "np.mean(syn0)"
   ]
  },
  {
   "cell_type": "code",
   "execution_count": 3,
   "metadata": {
    "collapsed": true
   },
   "outputs": [],
   "source": [
    "data = pd.read_csv('/Users/jacobcastiglioni/Desktop/machine-learning-ex2/ex2/ex2data1.txt', header=None)\n",
    "data = data.as_matrix()"
   ]
  },
  {
   "cell_type": "code",
   "execution_count": 5,
   "metadata": {
    "collapsed": true
   },
   "outputs": [],
   "source": [
    "X = data[:,0:2]\n",
    "y = data[:,2:3]"
   ]
  },
  {
   "cell_type": "code",
   "execution_count": 8,
   "metadata": {},
   "outputs": [
    {
     "data": {
      "text/plain": [
       "[<matplotlib.lines.Line2D at 0x11adaffd0>]"
      ]
     },
     "execution_count": 8,
     "metadata": {},
     "output_type": "execute_result"
    },
    {
     "data": {
      "image/png": "[encoded data removed]",
      "text/plain": [
       "<matplotlib.figure.Figure at 0x11aa98438>"
      ]
     },
     "metadata": {},
     "output_type": "display_data"
    }
   ],
   "source": [
    "import numpy as np\n",
    "\n",
    "# sigmoid function\n",
    "def sigmoid(x,deriv=False):\n",
    "    if(deriv==True):\n",
    "        return x*(1-x)\n",
    "    return 1/(1+np.exp(-x))\n",
    "    \n",
    "# # input dataset\n",
    "# X = np.array([  [0,0,1],\n",
    "#                 [0,1,1],\n",
    "#                 [1,0,1],\n",
    "#                 [1,1,1] ])\n",
    "    \n",
    "# # # output dataset            \n",
    "# y = np.array([[0,0,1,1]]).T\n",
    "\n",
    "# seed random numbers to make calculation\n",
    "# deterministic (just a good practice)\n",
    "np.random.seed(1)\n",
    "\n",
    "# initialize weights randomly with mean 0\n",
    "syn0 = 2*np.random.random((2,1)) - 1\n",
    "costs = []\n",
    "\n",
    "for iter in range(50000):\n",
    "\n",
    "    # forward propagation\n",
    "    l0 = X\n",
    "    l1 = sigmoid(np.dot(l0,syn0))\n",
    "\n",
    "    # how much did we miss?\n",
    "    l1_error = abs(y - l1)\n",
    "    costs.append(np.sum(l1_error))\n",
    "    # multiply how much we missed by the \n",
    "    # slope of the sigmoid at the values in l1\n",
    "    l1_delta = l1_error * sigmoid(l1,True)\n",
    "\n",
    "    # update weights\n",
    "    syn0 += np.dot(l0.T,l1_delta)\n",
    "\n",
    "plt.plot(costs)"
   ]
  },
  {
   "cell_type": "code",
   "execution_count": 13,
   "metadata": {},
   "outputs": [
    {
     "data": {
      "text/plain": [
       "[<matplotlib.lines.Line2D at 0x113b115c0>]"
      ]
     },
     "execution_count": 13,
     "metadata": {},
     "output_type": "execute_result"
    },
    {
     "data": {
      "image/png": "[encoded data removed]",
      "text/plain": [
       "<matplotlib.figure.Figure at 0x113ac7358>"
      ]
     },
     "metadata": {},
     "output_type": "display_data"
    }
   ],
   "source": [
    "import numpy as np\n",
    "\n",
    "# sigmoid function\n",
    "def nonlin(x,deriv=False):\n",
    "    if(deriv==True):\n",
    "        return x*(1-x)\n",
    "    return 1/(1+np.exp(-x))\n",
    "    \n",
    "# input dataset\n",
    "# X = np.array([  [0,0,1],\n",
    "#                 [0,1,1],\n",
    "#                 [1,0,1],\n",
    "#                 [1,1,1] ])\n",
    "    \n",
    "# # output dataset            \n",
    "# y = np.array([[0,0,1,1]]).T\n",
    "\n",
    "# seed random numbers to make calculation\n",
    "# deterministic (just a good practice)\n",
    "np.random.seed(1)\n",
    "\n",
    "# initialize weights randomly with mean 0\n",
    "syn0 = 2*np.random.random((2,1)) - 1\n",
    "costs = []\n",
    "\n",
    "for iter in range(10000):\n",
    "\n",
    "    # forward propagation\n",
    "    l0 = X\n",
    "    l1 = nonlin(np.dot(l0,syn0))\n",
    "\n",
    "    # how much did we miss?\n",
    "    l1_error = y - l1\n",
    "    costs.append(abs(np.sum(l1_error)))\n",
    "    # multiply how much we missed by the \n",
    "    # slope of the sigmoid at the values in l1\n",
    "    l1_delta = l1_error * nonlin(l1,True)\n",
    "\n",
    "    # update weights\n",
    "    syn0 += np.dot(l0.T,l1_delta)\n",
    "\n",
    "plt.plot(costs)"
   ]
  },
  {
   "cell_type": "code",
   "execution_count": 9,
   "metadata": {},
   "outputs": [
    {
     "data": {
      "text/plain": [
       "array([[-0.16595599],\n",
       "       [ 0.44064899]])"
      ]
     },
     "execution_count": 9,
     "metadata": {},
     "output_type": "execute_result"
    }
   ],
   "source": [
    "syn0"
   ]
  },
  {
   "cell_type": "code",
   "execution_count": null,
   "metadata": {
    "collapsed": true
   },
   "outputs": [],
   "source": []
  }
 ],
 "metadata": {
  "kernelspec": {
   "display_name": "Python 3",
   "language": "python",
   "name": "python3"
  },
  "language_info": {
   "codemirror_mode": {
    "name": "ipython",
    "version": 3
   },
   "file_extension": ".py",
   "mimetype": "text/x-python",
   "name": "python",
   "nbconvert_exporter": "python",
   "pygments_lexer": "ipython3",
   "version": "3.6.1"
  }
 },
 "nbformat": 4,
 "nbformat_minor": 2
}
