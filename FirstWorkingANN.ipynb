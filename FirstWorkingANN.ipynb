{
 "cells": [
  {
   "cell_type": "markdown",
   "metadata": {},
   "source": [
    "Welcome to my first ANN! What I will be coding is a 3-layer ANN with two input nodes, 3 hidden nodes, and a single output node. This is  a classification model. The output node outputs the probabilty that the m'th data example is equal to 1. If the probability is p<.50 the ANN will predict 0"
   ]
  },
  {
   "cell_type": "code",
   "execution_count": 1,
   "metadata": {
    "collapsed": true
   },
   "outputs": [],
   "source": [
    "import numpy as np\n",
    "import matplotlib.pyplot as plt\n",
    "import pandas as pd\n",
    "%matplotlib inline"
   ]
  },
  {
   "cell_type": "code",
   "execution_count": 85,
   "metadata": {
    "collapsed": true
   },
   "outputs": [],
   "source": [
    "#Import Data\n",
    "data = pd.read_csv('/Users/jacobcastiglioni/Desktop/machine-learning-ex2/ex2/ex2data1.txt', header=None)\n",
    "data = data.as_matrix()"
   ]
  },
  {
   "cell_type": "code",
   "execution_count": 86,
   "metadata": {},
   "outputs": [],
   "source": [
    "#Define X and y values\n",
    "#I scale x-valules because I will use sigmoid as acitvation\n",
    "#and the sigmoid only does well with data -6 ≤ x ≤ 6\n",
    "X = data[:,0:2]/100\n",
    "y = data[:,2:3]"
   ]
  },
  {
   "cell_type": "code",
   "execution_count": 87,
   "metadata": {
    "collapsed": true
   },
   "outputs": [],
   "source": [
    "#Activation Function\n",
    "def sigmoid(x, derif=False):\n",
    "    if derif == True:\n",
    "        return x*(1-x)\n",
    "    return 1/(1+np.exp(-x))"
   ]
  },
  {
   "cell_type": "code",
   "execution_count": 88,
   "metadata": {
    "collapsed": true
   },
   "outputs": [],
   "source": [
    "#Plant a random seed for reproducibility\n",
    "np.random.seed(1)"
   ]
  },
  {
   "cell_type": "markdown",
   "metadata": {},
   "source": [
    "I get my notation variables from Andrew Ng's machine learning course on coursera.org and\n",
    "after coding this I find that the Z varibles are unnesscery but I used them anyway"
   ]
  },
  {
   "cell_type": "code",
<<<<<<< HEAD
   "execution_count": 92,
=======
   "execution_count": 89,
>>>>>>> c188ce627d3d921dea1bacf983c6140ae2a20683
   "metadata": {},
   "outputs": [
    {
     "data": {
<<<<<<< HEAD
      "image/png": "iVBORw0KGgoAAAANSUhEUgAAAX4AAAD8CAYAAABw1c+bAAAABHNCSVQICAgIfAhkiAAAAAlwSFlz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\nSQAAAABJRU5ErkJggg==\n",
      "text/plain": [
       "<matplotlib.figure.Figure at 0x12003c160>"
=======
      "image/png": "iVBORw0KGgoAAAANSUhEUgAAAX4AAAD8CAYAAABw1c+bAAAABHNCSVQICAgIfAhkiAAAAAlwSFlz\nAAALEgAACxIB0t1+/AAAIABJREFUeJzt3Xl8VPW9//HXJztkg5AQQgIkYQ+oLGFfFFdwQ1wq1ror\nUrXX2tt7a5fbetvbX69dba1LFde6Y9VirUIpqICCBGQLa4BAwhrCvmb7/v7IwB0pywQmc5KZ9/Px\nyIOZM+fMvHMmvOfMWc05h4iIRI4orwOIiEhoqfhFRCKMil9EJMKo+EVEIoyKX0Qkwqj4RUQijIpf\nRCTCqPhFRCKMil9EJMLEeB3gRNLT011ubq7XMUREmo0FCxbscM5lBDJukyz+3NxcioqKvI4hItJs\nmNmGQMfVqh4RkQij4hcRiTAqfhGRCKPiFxGJMCp+EZEIo+IXEYkwKn4RkQgTVsV/sKqG52evZ+aq\n7dTU1nkdR0SkSWqSB3CdqcdnlPDUx2sByEiO55o+7bm+fwe6t0v2OJmISNMRVsW/cMMuzslO5YEL\nu/D2gnJemFPKs7PW0zs7hev75XB1n2zSEuO8jiki4qmwKv7yXYcYmJfGZb3acVmvdlTuP8KUxZt5\ne0E5j7y/nJ//fQWjurflpoEduaB7BmbmdWQRkZALm+Kvq3NU19aR07rFsWFtkuK5Y1gedwzLY8WW\nvfxlQTnvLdrMtOXbGNunPY9edy4JsdEephYRCT1zznmd4V8UFha6Mz1JW12dIyrq5Evy1bV1PPXx\nWn43fTXnd8tg0q2FxESH1TZuEYlAZrbAOVcYyLhh13inKn2A2Ogo/u2irvzPNb35eFUFf5hREqJk\nIiJNQ9gVf6BuHtSJa/tm88TMEtZW7Pc6johIyERs8QP84IqetIiN5tEPV3odRUQkZCK6+NOT4rl7\nRB7Tlm+jZPs+r+OIiIRERBc/wC2DOxEXE8Vzs0u9jiIiEhIRX/xtkuK5tm827ywsZ8/Baq/jiIg0\nuogvfqjf0Hukpo4pizd5HUVEpNGp+IHe2Sn0zErhraJyr6OIiDQ6FT9gZtxYmMPSTXtYvnmv13FE\nRBqVit/nmr7ZxMVE8VZRmddRREQalYrfp1XLOC7r1Y53v9zE4epar+OIiDSagIrfzEab2SozKzGz\nh08x3gAzqzGz6/2GlZrZUjNbZGZndgKeEBk/oAN7DlUztXir11FERBrNaYvfzKKBJ4AxQAFwk5kV\nnGS8R4FpJ3iaUc65PoGeQMgrQ/Lb0KlNS16bt9HrKCIijSaQJf6BQIlzbp1zrgp4Axh7gvG+BfwF\n2B7EfCEVFWWMH9CReet36vw9IhK2Ain+bMB/i2e5b9gxZpYNjAOeOsH0DphuZgvMbMLJXsTMJphZ\nkZkVVVRUBBCrcVzfP4eYKOONL7TULyLhKVgbdx8DvuecO9EVzoc75/pQv6rofjMbeaIncM4945wr\ndM4VZmRkBClWw2Ukx3NJQSZvLyjnSI028opI+Amk+DcBHfzu5/iG+SsE3jCzUuB64EkzuwbAObfJ\n9+924F3qVx01aTcN7Miug9VMLd7mdRQRkaALpPjnA13NLM/M4oDxwBT/EZxzec65XOdcLvA2cJ9z\n7j0zSzSzZAAzSwQuBZYF9TdoBMO7pJPTugWvayOviISh0xa/c64GeACYCqwA3nLOFZvZRDObeJrJ\nM4HZZrYY+AL4wDn30dmGbmxRUcbXB3Xk83WVrN6m0zWLSHgJu2vuBsvOA1UM/sU/uaF/Dj8fd46n\nWURETieir7kbLGmJcVzTpz3vLNyk0zWLSFhR8Z/CbUNzOVRdq/P3iEhYUfGfQq/2qQzMS+PluaXU\n1jW9VWIiImdCxX8atw/NpWznIWasbLYHJIuIfIWK/zQuLcgkKzWBFz9b73UUEZGgUPGfRkx0FLcM\n6cSckkrWaNdOEQkDKv4AjB/QkbiYKF74rNTrKCIiZ03FH4C0xDjG9cnmnYXl7DpQ5XUcEZGzouIP\n0N0j8jhcXccrczd4HUVE5Kyo+APUNTOZUd0zeOnzUl2aUUSaNRV/A9wzIp8d+6v466LjT04qItJ8\nqPgbYEjnNhRkpfDsrPXU6YAuEWmmVPwNYGZMGJlPyfb9fLLau6uEiYicDRV/A11xbhZZqQk88+k6\nr6OIiJwRFX8DxUZHcfvQXD5fV8myTXu8jiMi0mAq/jMwfmBHEuOimTRLS/0i0vyo+M9AaotYxg/s\nyPtLtrBp9yGv44iINIiK/wzdNTyPKIM/fbLW6ygiIg2i4j9D7Vu14Lp+Obwxv4ztew97HUdEJGAq\n/rPwzQs6U1vntIePiDQrKv6z0KlNImPPa8+r8zZSuf+I13FERAKi4j9L943qwuGaWp6fowu1iEjz\noOI/S13aJnH5OVm89NkG9hys9jqOiMhpqfiD4IFRXdh/pIbnZmtdv4g0fSr+IOiZlcIV52QxafZ6\ndmhdv4g0cSr+IPnOpd04UlPHH2eUeB1FROSUVPxB0jkjiRv65/DavI2U7TzodRwRkZNS8QfRgxd3\nBYPHpq/xOoqIyEmp+IMoK7UFtw3pxLtflrN62z6v44iInFBAxW9mo81slZmVmNnDpxhvgJnVmNn1\nDZ02XNx3QRcS42P4nw9W4Jyu0iUiTc9pi9/MooEngDFAAXCTmRWcZLxHgWkNnTactE6M48GLuvLp\n6gpmrtrudRwRkX8RyBL/QKDEObfOOVcFvAGMPcF43wL+Amw/g2nDyq1DcslPT+R//raCqpo6r+OI\niHxFIMWfDZT53S/3DTvGzLKBccBTDZ02HMXFRPFfVxawbscBXv681Os4IiJfEayNu48B33POnfHi\nrZlNMLMiMyuqqGj+FzIf1aMt53fL4PfT1+igLhFpUgIp/k1AB7/7Ob5h/gqBN8ysFLgeeNLMrglw\nWgCcc8845wqdc4UZGRkBxm/a/uvKAg5V1/KLv6/0OoqIyDGBFP98oKuZ5ZlZHDAemOI/gnMuzzmX\n65zLBd4G7nPOvRfItOGsS9sk7hmZz18WlvP52kqv44iIAAEUv3OuBngAmAqsAN5yzhWb2UQzm3gm\n05597Obj3y7sSse0lvzw3aUcrq71Oo6ICNYU9zUvLCx0RUVFXscImk9XV3Dr81/w4EVdeeiSbl7H\nEZEwZGYLnHOFgYyrI3dDYGS3DMb2ac9TH6+lZPt+r+OISIRT8YfIj64oICE2iu+/s4S6uqb3LUtE\nIoeKP0QykuP58VW9mF+6ixc+K/U6johEMBV/CF3XL5uLerTllx+tZG2FVvmIiDdU/CFkZvzi2nNI\niI3mu5MXU6tVPiLiARV/iLVNSeCnY3vx5cbdPDtL1+gVkdBT8Xvg6vPaM6Z3O347bTWrtuq8/SIS\nWip+D5gZP7umN8kJMTz4xpc6sEtEQkrF75H0pHh+fcN5rNy6j//9UOfyEZHQUfF7aFSPttwxLJcX\nPytlxsptXscRkQih4vfY90b3oEe7ZP5j8hK27z3sdRwRiQAqfo8lxEbz+E19OVBVw79PXqyjekWk\n0an4m4Cumcn815UFzFqzg0mztYuniDQuFX8T8fWBHRndqx2//GgVRaU7vY4jImFMxd9EmBmPXn8u\n2a1bcP9rC3W5RhFpNCr+JiS1RSxP3tyP3QerefCNL3VKBxFpFCr+JqZX+1R+NrY3c0oqeWz6aq/j\niEgYUvE3QV8b0IGvFebw+IwSZq7c7nUcEQkzKv4m6qdje9MzK4Vvv7mIsp0HvY4jImFExd9EJcRG\n89TN/XDOcc/LRRw4UuN1JBEJEyr+Jiw3PZE/fr0fq7ft4ztvLdLBXSISFCr+Jm5ktwx+cHlPphZv\n4/f/XON1HBEJAzFeB5DTu2t4Hiu27OP3/1xDj3bJjDkny+tIItKMaYm/GTAzfj6uN306tOI7by1m\nxZa9XkcSkWZMxd9MJMRG88wt/UlpEcPdLxXpTJ4icsZU/M1I25QEnrttALsOVnHnS/O1p4+InBEV\nfzPTOzuVJ77ejxVb9vHAawupqa3zOpKINDMq/mZoVI+2/HRsL2auquAnU4pxTrt5ikjgtFdPM3Xz\noE6U7TzE05+spUNaSyae39nrSCLSTKj4m7H/vKw7m3Yf4n8/XEnb5Hiu7ZfjdSQRaQYCWtVjZqPN\nbJWZlZjZwyd4fKyZLTGzRWZWZGbD/R4rNbOlRx8LZvhIFxVl/PqGcxnWpQ3/8fYS/rFcF2wXkdM7\nbfGbWTTwBDAGKABuMrOC40b7J3Cec64PcCcw6bjHRznn+jjnCoOQWfzEx0Tzp1sK6Z2dyv2vLeSz\ntTu8jiQiTVwgS/wDgRLn3DrnXBXwBjDWfwTn3H73f1sYEwFtbQyhpPgYXrx9ALltWnLPS0UsLtvt\ndSQRacICKf5soMzvfrlv2FeY2TgzWwl8QP1S/1EOmG5mC8xswtmElZNrnRjHn+8aRFpSHLe98AVr\ntu3zOpKINFFB253TOfeuc64HcA3wM7+HhvtWAY0B7jezkSea3swm+LYPFFVUVAQrVkTJTEnglbsG\nERsdxc2T5rG2Yr/XkUSkCQqk+DcBHfzu5/iGnZBz7lMg38zSffc3+f7dDrxL/aqjE033jHOu0DlX\nmJGREWB8OV6nNom8evcgauscNz0zl3UqfxE5TiDFPx/oamZ5ZhYHjAem+I9gZl3MzHy3+wHxQKWZ\nJZpZsm94InApsCyYv4D8q26Zybw+YXB9+T87l/U7DngdSUSakNMWv3OuBngAmAqsAN5yzhWb2UQz\nm+gb7TpgmZkton4PoBt9G3szgdlmthj4AvjAOfdRY/wi8lXdMpN57Z7B1NQ6xj/zucpfRI6xpni4\nf2FhoSsq0i7/wbBq6z6+/uxcYqOjeH3CYPLSE72OJCKNwMwWBLrLvM7VE+a6t6tf8q+ureOGpz/X\nufxFRMUfCbq3S+bNe4cQG23c+KfPWbBhl9eRRMRDKv4I0aVtEpMnDiEtMY5vTJrHrDXaZVYkUqn4\nI0hO65ZMnjiUTm1acteLRXy0bKvXkUTEAyr+CJORHM+bE4bQOzuF+15dwOtfbPQ6koiEmIo/AqW2\njOWVuwcxslsG339nKb+aulIXcxGJICr+CNUyLoZJtxZy08AOPDFzLQ+9uYiqGl3GUSQS6EIsESwm\nOor/N+4cclq35FdTV7Ft7xGevqU/qS1ivY4mIo1IS/wRzsy4f1QXfnfjeRRt2Mn1T31G2c6DXscS\nkUak4hcAxvXN4aU7B7Jt72HGPjGHuesqvY4kIo1ExS/HDO2czl8fGE7rlrF8Y9I8Xpm7wetIItII\nVPzyFXnpibx7/zBGdE3nR+8t40fvLaW6Vht9RcKJil/+RUpCLJNuG8C95+fzytyNfGPSPCr3H/E6\nlogEiYpfTig6yvj+mJ787sbz+LJsN1f8YTYLNuz0OpaIBIGKX05pXN8c3vnmUOJiorjxT3N5bvZ6\nHewl0syp+OW0emen8v63hjOqR1t+9rfl3PfqQvYervY6loicIRW/BCS1RSzP3NKfH1zeg2nLt3H1\n47NZvlnn9hdpjlT8EjAzY8LIzrx+z2AOVtVyzZNzeHGOVv2INDcqfmmwgXlp/P3BEQzr3IZH3l/O\nnS/OZ4f2+hFpNlT8ckbSk+J5/vYBPHJVAXPWVjL6sU/5eNV2r2OJSABU/HLGzIzbh+Ux5YFhtEmM\n5/YX5vPf7xdzuLrW62gicgoqfjlrPdql8NcHhnHbkE68MKeUqx6fzeKy3V7HEpGTUPFLUCTERvPf\nY3vz4h0D2He4hmuf+oxfTV3JkRot/Ys0NSp+CaoLurdl6kMjGdc3mydmruXqx+ewbNMer2OJiB8V\nvwRdaotYfn3DeTx/eyG7DlYx9ok5/HbaKl3hS6SJUPFLo7mwRyb/eOh8xvZpzx9mlHDl47MoKtX5\nfkS8puKXRpXaMpbffq0Pz99eyIEjtVz/9Od8/52l7DmkUz6IeEXFLyFxYY9Mpj00kruH5/Hm/I1c\n9JtPeH/xZh31K+IBFb+ETGJ8DD+6soApDwwnKzWBb73+JXe8OF/X+BUJMRW/hFzv7FTeu38YP76y\ngC/W7+SS333C76ev0YFfIiESUPGb2WgzW2VmJWb28AkeH2tmS8xskZkVmdnwQKeVyBQdZdw5PI/p\n3zmfi3pk8rvpq7n4t58wtXirVv+INDI73X8yM4sGVgOXAOXAfOAm59xyv3GSgAPOOWdm5wJvOed6\nBDLtiRQWFrqioqKz+LWkufmsZAePvF/M6m37GdE1nZ9c1YsubZO8jiXSbJjZAudcYSDjBrLEPxAo\ncc6tc85VAW8AY/1HcM7td//3CZIIuECnFQEY2iWdD/5tBD++soBFZbsZ/din/PyD5ezTBV9Egi6Q\n4s8Gyvzul/uGfYWZjTOzlcAHwJ0NmdY3/QTfaqKiioqKQLJLmImNjuLO4XnM/O4FXNsvm2dnrWfU\nrz/htXkbqanVwV8iwRK0jbvOuXedcz2Aa4CfncH0zzjnCp1zhRkZGcGKJc1QelI8v7z+PN67fxi5\nbVryg3eXMub3s5i5crvW/4sEQSDFvwno4Hc/xzfshJxznwL5Zpbe0GlF/PXp0IrJE4fw9Df6UV1b\nxx0vzucbz82jeLPO/SNyNgIp/vlAVzPLM7M4YDwwxX8EM+tiZua73Q+IByoDmVbkVMyM0b2zmPbQ\n+fzkqgKKN+/lysdn893Ji9my55DX8USapZjTjeCcqzGzB4CpQDTwvHOu2Mwm+h5/GrgOuNXMqoFD\nwI2+jb0nnLaRfhcJY3ExUdwxLI9r++Xw5MwSXphTyt+WbObOYXncO7IzqS1jvY4o0mycdndOL2h3\nTjmdsp0H+dXUVUxZvJmUhBjuPb8zdwzLpWXcaZdlRMJSQ3bnVPFLs7Z8815+M20V/1y5nfSkeL51\nYRfGD+xAfEy019FEQkrFLxFnwYad/PKjVcxbv5PsVi146JJujOubTXSUeR1NJCSCfQCXSJPXv1Ma\nb0wYzMt3DiQtMY7vTl7MZY99yodLt2gXUJHjqPglbJgZI7tlMOWBYTx1cz+cc3zz1YVc8YfZOgeQ\niB8Vv4QdM2PMOVlM/fZIfnPDeRysquHePy/QB4CIj9bxS9irqa3jr4s28/iMNZRWHqQgK4UHL+7K\npQWZ+A4/EWn2tHFX5ARO9AHw7Yu7cok+ACQMqPhFTkEfABKOVPwiATj+A6BHu2TuH9WFy8/J0m6g\n0uyo+EUa4OgHwJMfl7C24gD56YlMvKAz4/pmExut/R+keVDxi5yB2jrHtOKt/HFmCcWb95LdqgUT\nRuZz44AOJMTqSGBp2lT8ImfBOcfHqyt4YkYJRRt2kZ4Uz90j8rh5UEeSE3QyOGmaVPwiQTJvXSV/\nnFnCrDU7SEmI4fZhedwxNJfWiXFeRxP5ChW/SJAtLtvNkx+XMLV4Gy3jovnG4E7cPTyPtikJXkcT\nAVT8Io1m9bZ9PDmzhCmLNxMTFcW4vtncMzKfLm2TvI4mEU7FL9LINlQeYNKs9UxeUMbh6jou7pnJ\nvefnU9iptY4FEE+o+EVCpHL/EV7+fAMvf17KroPV9O3YintHduaSgkwdCyAhpeIXCbFDVbVMXlDG\npFnr2bjzIHnpidwzIp9r+2VrV1AJCRW/iEdqauv4qHgrz3y6jiXle0hPiuO2IbncMqQTrVpqTyBp\nPCp+EY8555i7bid/+nQtH6+qoEVsNNf1z+b2oXnaECyNoiHFrytTizQCM2NI5zYM6dyGlVv38tys\n9bxVVM4rczcyslsGdwzL5fyuGURpO4B4QEv8IiGyY/8RXp+3kZfnbqBi3xHyMxK5fWgu1/XLITFe\ny2BydrSqR6QJq6qp4+9Lt/DCnPUsLt9DckIMNxZ24LahuXRIa+l1PGmmVPwizYBzjoUbd/PCnPV8\nuKz+kpAX9sjk5sEdGdk1Q7uDSoNoHb9IM2Bm9O/Umv6dWrNlzyFembuBN+eXMX3FNnJat+CmgR25\noTCHtsk6LYQEl5b4RZqQqpo6pi3fymvzNvLZ2kpioozLerXj5kEdGdK5jY4KlpPSEr9IMxUXE8WV\n57bnynPbs7ZiP6/P28jbC8v5YOkW8tITuWlgB67tl0N6UrzXUaUZ0xK/SBN3uLqWD5dt4dW5Gyna\nsIuYKOOC7m25oTCHUd3bEhejq4SJlvhFwkpCbDTj+uYwrm8Oa7bt4+0F5bzz5Samr9hGWmIc1/TJ\n5vr+ORS0T/E6qjQTAS3xm9lo4PdANDDJOfe/xz1+M/A9wIB9wDedc4t9j5X6htUCNYF8ImmJX+TU\namrrmLVmB5MXlDF9+XaqausoyErhhsIcrjy3PRnJWhUUaYK6O6eZRQOrgUuAcmA+cJNzbrnfOEOB\nFc65XWY2BnjEOTfI91gpUOic2xHoL6DiFwncrgNVvL9kM5OLylm6aQ9RBsO6pHPVee25rFc7Ulvo\ncpGRINjFP4T6Ir/Md//7AM65X5xk/NbAMudctu9+KSp+kZBYvW0fUxZtZsrizWzceZC46Cgu6J7B\n1X3ac1GPTFrE6Uyh4SrY6/izgTK/++XAoFOMfxfwod99B0w3s1rgT865ZwIJJiIN1y0zme9e1p1/\nv7Qbi8v3MGXRZv62ZDPTlm8jMS6aSwoyueLc9ozomq7TRUewoG7cNbNR1Bf/cL/Bw51zm8ysLfAP\nM1vpnPv0BNNOACYAdOzYMZixRCKOmdGnQyv6dGjFD6/oybz1lby/eDN/X7qV9xZtpmVcNKN6tOWy\nXu0Y1T2D5AStDookQVvVY2bnAu8CY5xzq0/yXI8A+51zvz7Va2pVj0jjqK6tY+66Sj5atpWpxdvY\nsf8IcdFRDO+azuhe7bi4IJO0RF03oDkK9jr+GOo37l4EbKJ+4+7XnXPFfuN0BGYAtzrnPvMbnghE\nOef2+W7/A/ipc+6jU72mil+k8dXWOb7cuIuPlm3lo+KtlO86RJTBwLw0Lu6ZyYU92pKfoWsHNBdB\nP0mbmV0OPEb97pzPO+d+bmYTAZxzT5vZJOA6YINvkhrnXKGZ5VP/LQDqVyu95pz7+eleT8UvElrO\nOYo372Vq8VamFm9l9bb9AOS2acmFPeo/BAbmpelgsSZMZ+cUkbNStvMgM1dtZ8bK7Xy2tpKqmjqS\n4mMY3iWdC3u25YLuGTp5XBOj4heRoDlYVcNnJZXMWLWdGSu2s3XvYQAKslIY0S2dEV0yKMxtrb2E\nPKbiF5FG4ZxjxZZ9zFy1nVlrKliwYRfVtY74mCgG5qUxoms6w7tk0KNdsi4rGWIqfhEJiQNHavhi\n/U5mrdnBrDUVrNlev20gPSmOYV3SGd4lnaFd0slu1cLjpOFPJ2kTkZBIjI9hVI+2jOrRFoCtew4z\nu6T+Q2BOyQ7+umgzAB3SWjA4rw2D8tswOD+NnNa6xKSXtMQvIo2irs6xcus+5q2vZO66Suat38nu\ng9UA5LRuweD8NgzKS2NwfhtdazgItKpHRJqcujrH6u37mLu2krnrdjJvfSW7fB8E2a1aMCg/jQG5\naRR2ak3njCRtI2ggFb+INHl1dY412/czd139N4Iv1u+k8kAVAKktYunXsRWFuWn079Sa83Ja6QRz\np6F1/CLS5EVFGd3bJdO9XTK3Dc3FOUdp5UGKSneyYMMuFmzYxcxVqwCIiTJ6tU+hf6f6D4LC3NZk\npug4gjOlJX4RabJ2H6xi4cZdFJXWfxAsLt/N4eo6oH71UJ+OreiT04o+HVvRu31qRH8r0BK/iISF\nVi3jfKeMyASgqqaO5Vv2smDDLhZu2MWijbv5YMkWAKKjjG6ZyfTpkEqfDq04r0MrurZNJlrbCv6F\nlvhFpFmr2HeEJeW7WVy2my/L6v/de7gGgJZx0fTOTqWv74Pg3JxUslu1wCz8Pgy0xC8iESMjOZ6L\nemZyUc/6bwVHtxUsLtvNIt/PC3NKqaqtX0XUumUsvbNT6dU+ld7ZKZyTnUrHtJZh+WFwMip+EQkr\nZkZeeiJ56Ylc0zcbqF9FtHLrXhaX7aZ4816Wbd7Dc7PXUV1bv8YjOSGGXu1T6N0+ld7Z9R8IeelJ\nYbuaSMUvImEvLiaKc3NacW5Oq2PDqmrqWL1tH8Wb97B00x6WbdrLn+du4EhN/TeDFrHRFLRPoXf7\nFHplp1KQlUKXtklhcTI6reMXEfGpqa1jbcUBlm3aw7LNeyjetJfizXs4UFUL1G9Azk9PpEdWCj3a\nJdMzK5meWSm0S0nwfFWRDuASEQmSujpHaeUBVm7dx8ote1m+ZR8rt+6lfNehY+Oktoj1fRCk0DMr\nmR7tUuiWmRzS3Uu1cVdEJEiiooz8jCTyM5K4/JysY8P3Hq5mle/DYMXWfazYspe3iso46Pt2EGWQ\nm55Iz3YpdG+XTLfMZLplJtGpTaLn2w5U/CIiZyAlIZYBufXnFzqqrs5RtusgK7bUfxCs3Fq/IfmD\npVuOjRMfE0XnjCS6t0uma2YS3drWH72c3apFyM5PpOIXEQmSqCijU5tEOrVJZHTvdseGHzhSQ8n2\n/azets/3U3+Oone/3HRsnJZx0RRkpTB54pBG316g4hcRaWSJ8TGc5zuIzN/ew9Ws8X0QrNq6j8PV\ntSHZSKziFxHxSEpCrO/Ec2mnHzmIokL6aiIi4jkVv4hIhFHxi4hEGBW/iEiEUfGLiEQYFb+ISIRR\n8YuIRBgVv4hIhGmSZ+c0swpgwxlOng7sCGKcYFGuhlGuhlGuhgnHXJ2ccxmBjNgki/9smFlRoKcm\nDSXlahjlahjlaphIz6VVPSIiEUbFLyISYcKx+J/xOsBJKFfDKFfDKFfDRHSusFvHLyIipxaOS/wi\nInIKYVP8ZjbazFaZWYmZPRyC1+tgZjPNbLmZFZvZg77hj5jZJjNb5Pu53G+a7/vyrTKzy/yG9zez\npb7H/mBneSUGMyv1Pd8iMyvyDUszs3+Y2Rrfv61DmcvMuvvNk0VmttfMvu3F/DKz581su5kt8xsW\ntPljZvFm9qZv+Dwzyz2LXL8ys5VmtsTM3jWzVr7huWZ2yG++PR3iXEF734Kc602/TKVmtsiD+XWy\nbvD8b+wY51yz/wGigbVAPhAHLAYKGvk1s4B+vtvJwGqgAHgE+O4Jxi/w5YoH8nx5o32PfQEMBgz4\nEBhzltmzGtJ4AAAD4klEQVRKgfTjhv0SeNh3+2Hg0VDnOu792gp08mJ+ASOBfsCyxpg/wH3A077b\n44E3zyLXpUCM7/ajfrly/cc77nlCkSto71swcx33+G+AH3swv07WDZ7/jR39CZcl/oFAiXNunXOu\nCngDGNuYL+ic2+KcW+i7vQ9YAWSfYpKxwBvOuSPOufVACTDQzLKAFOfcXFf/Lr4MXNMIkccCL/lu\nv+T3Gl7kughY65w71UF6jZbLOfcpsPMErxes+eP/XG8DFwXyreREuZxz05xzNb67c4GcUz1HqHKd\ngqfz6yjf9F8DXj/VczRSrpN1g+d/Y0eFS/FnA2V+98s5dQkHle9rVl9gnm/Qt3xfzZ/3+zp3sozZ\nvtvHDz8bDphuZgvMbIJvWKZzbovv9lYg04NcR43nq/8hvZ5fENz5c2waX2nvAdoEIeOd1C/1HZXn\nW23xiZmN8HvtUOUK1vvWGPNrBLDNObfGb1jI59dx3dBk/sbCpfg9Y2ZJwF+Abzvn9gJPUb/KqQ+w\nhfqvm6E23DnXBxgD3G9mI/0f9C09eLI7l5nFAVcDk32DmsL8+gov58/JmNkPgRrgVd+gLUBH3/v8\nHeA1M0sJYaQm974d5ya+unAR8vl1gm44xuu/sXAp/k1AB7/7Ob5hjcrMYql/Y191zr0D4Jzb5pyr\ndc7VAc9SvxrqVBk38dWv72ed3Tm3yffvduBdX4Ztvq+OR7/ebg91Lp8xwELn3DZfRs/nl08w58+x\nacwsBkgFKs80mJndDlwJ3OwrDHyrBSp9txdQv164W6hyBfl9C/b8igGuBd70yxvS+XWibqAJ/Y2F\nS/HPB7qaWZ5viXI8MKUxX9C3Pu05YIVz7rd+w7P8RhsHHN3jYAow3rc1Pg/oCnzh++q318wG+57z\nVuCvZ5Er0cySj96mfuPgMt/r3+Yb7Ta/1whJLj9fWRLzen75Ceb88X+u64EZRwu7ocxsNPCfwNXO\nuYN+wzPMLNp3O9+Xa10IcwXzfQtaLp+LgZXOuWOrSUI5v07WDTSlv7GGbAluyj/A5dRvPV8L/DAE\nrzec+q9qS4BFvp/LgT8DS33DpwBZftP80JdvFX57ogCF1P/HWQv8Ed+BdWeYK5/6PQQWA8VH5wX1\n6//+CawBpgNpoczle75E6pdKUv2GhXx+Uf/BswWopn696V3BnD9AAvWrskqo3ysj/yxylVC/Lvfo\n39jRPTmu872/i4CFwFUhzhW09y2YuXzDXwQmHjduKOfXybrB87+xoz86cldEJMKEy6oeEREJkIpf\nRCTCqPhFRCKMil9EJMKo+EVEIoyKX0Qkwqj4RUQijIpfRCTC/H918m2dvUpj2QAAAABJRU5ErkJg\ngg==\n",
      "text/plain": [
       "<matplotlib.figure.Figure at 0x11fcc8978>"
>>>>>>> c188ce627d3d921dea1bacf983c6140ae2a20683
      ]
     },
     "metadata": {},
     "output_type": "display_data"
    }
   ],
   "source": [
    "#Establish Weights & ANN design\n",
    "\n",
    "#The ANN is a 3-layer network with\n",
    "#2 input nodes\n",
    "#3 hidden nodes\n",
    "#1 output nodes\n",
    "\n",
    "W1 = np.random.random((2,3))\n",
    "W2 = np.random.random((3,1))\n",
    "\n",
    "#Learning Rate\n",
    "alpha = .01\n",
    "\n",
    "costs = []\n",
    "\n",
    "#Training Loop\n",
    "\n",
    "for i in range(20000):\n",
    "    \n",
    "    A1 = X\n",
    "    Z2 = A1.dot(W1)\n",
    "    A2 = sigmoid(Z2)\n",
    "    Z3 = A2.dot(W2)\n",
    "    A3 = sigmoid(Z3)\n",
    "    \n",
    "    J = (y-A3)\n",
    "    costs.append((np.mean(np.abs(J))))\n",
    "    \n",
    "    delta2 = J*sigmoid(A3,True)\n",
    "    delta1 = delta2.dot(W2.T) * sigmoid(A2, True)\n",
    "    \n",
    "    W2 += alpha*(A2.T.dot(delta2))\n",
    "    W1 += alpha*(A1.T.dot(delta1))\n",
    "    \n",
    "\n",
    "    \n",
    "plt.plot(costs)\n",
    "values = np.column_stack([y, ((A3>0.5)*1)])"
   ]
  },
  {
   "cell_type": "code",
   "execution_count": 90,
   "metadata": {},
   "outputs": [
    {
     "name": "stdout",
     "output_type": "stream",
     "text": [
      "Yes\n"
     ]
    }
   ],
   "source": [
    "if values[:,0].all() == values[:,1].all():\n",
    "    print('Yes')\n",
    "else:\n",
    "    print('No')"
   ]
  },
  {
   "cell_type": "code",
   "execution_count": null,
   "metadata": {
    "collapsed": true
   },
   "outputs": [],
   "source": []
  }
 ],
 "metadata": {
  "kernelspec": {
   "display_name": "Python 3",
   "language": "python",
   "name": "python3"
  },
  "language_info": {
   "codemirror_mode": {
    "name": "ipython",
    "version": 3
   },
   "file_extension": ".py",
   "mimetype": "text/x-python",
   "name": "python",
   "nbconvert_exporter": "python",
   "pygments_lexer": "ipython3",
   "version": "3.6.1"
  }
 },
 "nbformat": 4,
 "nbformat_minor": 2
}
