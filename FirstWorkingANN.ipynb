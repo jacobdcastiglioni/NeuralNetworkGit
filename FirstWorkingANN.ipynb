{
 "cells": [
  {
   "cell_type": "markdown",
   "metadata": {},
   "source": [
    "Welcome to my first ANN! What I will be coding is a 3-layer ANN with two input nodes, 3 hidden nodes, and a single output node. This is  a classification model. The output node outputs the probabilty that the m'th data example is equal to 1. If the probability is p<.50 the ANN will predict 0"
   ]
  },
  {
   "cell_type": "code",
   "execution_count": 1,
   "metadata": {
    "collapsed": true
   },
   "outputs": [],
   "source": [
    "import numpy as np\n",
    "import matplotlib.pyplot as plt\n",
    "import pandas as pd\n",
    "%matplotlib inline"
   ]
  },
  {
   "cell_type": "code",
   "execution_count": 85,
   "metadata": {
    "collapsed": true
   },
   "outputs": [],
   "source": [
    "#Import Data\n",
    "data = pd.read_csv('/Users/jacobcastiglioni/Desktop/machine-learning-ex2/ex2/ex2data1.txt', header=None)\n",
    "data = data.as_matrix()"
   ]
  },
  {
   "cell_type": "code",
   "execution_count": 86,
   "metadata": {},
   "outputs": [],
   "source": [
    "#Define X and y values\n",
    "#I scale x-valules because I will use sigmoid as acitvation\n",
    "#and the sigmoid only does well with data -6 ≤ x ≤ 6\n",
    "X = data[:,0:2]/100\n",
    "y = data[:,2:3]"
   ]
  },
  {
   "cell_type": "code",
   "execution_count": 87,
   "metadata": {
    "collapsed": true
   },
   "outputs": [],
   "source": [
    "#Activation Function\n",
    "def sigmoid(x, derif=False):\n",
    "    if derif == True:\n",
    "        return x*(1-x)\n",
    "    return 1/(1+np.exp(-x))"
   ]
  },
  {
   "cell_type": "code",
   "execution_count": 88,
   "metadata": {
    "collapsed": true
   },
   "outputs": [],
   "source": [
    "#Plant a random seed for reproducibility\n",
    "np.random.seed(1)"
   ]
  },
  {
   "cell_type": "markdown",
   "metadata": {},
   "source": [
    "I get my notation variables from Andrew Ng's machine learning course on coursera.org and\n",
    "after coding this I find that the Z varibles are unnesscery but I used them anyway"
   ]
  },
  {
   "cell_type": "code",
   "execution_count": 89,
   "metadata": {},
   "outputs": [
    {
     "data": {
      "image/png": "[encoded data removed]",
      "text/plain": [
       "<matplotlib.figure.Figure at 0x11fcc8978>"
      ]
     },
     "metadata": {},
     "output_type": "display_data"
    }
   ],
   "source": [
    "#Establish Weights & ANN design\n",
    "\n",
    "#The ANN is a 3-layer network with\n",
    "#2 input nodes\n",
    "#3 hidden nodes\n",
    "#1 output nodes\n",
    "\n",
    "W1 = np.random.random((2,3))\n",
    "W2 = np.random.random((3,1))\n",
    "\n",
    "#Learning Rate\n",
    "alpha = .01\n",
    "\n",
    "costs = []\n",
    "\n",
    "#Training Loop\n",
    "\n",
    "for i in range(20000):\n",
    "    \n",
    "    A1 = X\n",
    "    Z2 = A1.dot(W1)\n",
    "    A2 = sigmoid(Z2)\n",
    "    Z3 = A2.dot(W2)\n",
    "    A3 = sigmoid(Z3)\n",
    "    \n",
    "    J = (y-A3)\n",
    "    costs.append((np.mean(np.abs(J))))\n",
    "    \n",
    "    delta2 = J*sigmoid(A3,True)\n",
    "    delta1 = delta2.dot(W2.T) * sigmoid(A2, True)\n",
    "    \n",
    "    W2 += alpha*(A2.T.dot(delta2))\n",
    "    W1 += alpha*(A1.T.dot(delta1))\n",
    "    \n",
    "\n",
    "    \n",
    "plt.plot(costs)\n",
    "values = np.column_stack([y, ((A3>0.5)*1)])"
   ]
  },
  {
   "cell_type": "code",
   "execution_count": 90,
   "metadata": {},
   "outputs": [
    {
     "name": "stdout",
     "output_type": "stream",
     "text": [
      "Yes\n"
     ]
    }
   ],
   "source": [
    "if values[:,0].all() == values[:,1].all():\n",
    "    print('Yes')\n",
    "else:\n",
    "    print('No')"
   ]
  },
  {
   "cell_type": "code",
   "execution_count": null,
   "metadata": {
    "collapsed": true
   },
   "outputs": [],
   "source": []
  }
 ],
 "metadata": {
  "kernelspec": {
   "display_name": "Python 3",
   "language": "python",
   "name": "python3"
  },
  "language_info": {
   "codemirror_mode": {
    "name": "ipython",
    "version": 3
   },
   "file_extension": ".py",
   "mimetype": "text/x-python",
   "name": "python",
   "nbconvert_exporter": "python",
   "pygments_lexer": "ipython3",
   "version": "3.6.1"
  }
 },
 "nbformat": 4,
 "nbformat_minor": 2
}
