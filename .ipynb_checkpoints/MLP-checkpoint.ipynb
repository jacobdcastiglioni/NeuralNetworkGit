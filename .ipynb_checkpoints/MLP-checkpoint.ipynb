{
 "cells": [
  {
   "cell_type": "code",
   "execution_count": 1,
   "metadata": {
    "collapsed": true
   },
   "outputs": [],
   "source": [
    "import numpy as np\n",
    "import pandas as pd\n",
    "import matplotlib.pyplot as plt"
   ]
  },
  {
   "cell_type": "code",
   "execution_count": 2,
   "metadata": {
    "collapsed": true
   },
   "outputs": [],
   "source": [
    "data = data = np.array([[3,  1.5, 1], \n",
    "                 [2,  1,   0], \n",
    "                 [4,  1.5, 1], \n",
    "                 [2.5,  1, 0],\n",
    "                 [3.5,0.5, 1],\n",
    "                 [2,  0.5, 0],\n",
    "                 [5.5,1,   1],\n",
    "                 [1,  1,   0]])"
   ]
  },
  {
   "cell_type": "code",
   "execution_count": 3,
   "metadata": {
    "collapsed": true
   },
   "outputs": [],
   "source": [
    "X = data[:, 0:2]\n",
    "y = data[:,2:3]"
   ]
  },
  {
   "cell_type": "code",
   "execution_count": 4,
   "metadata": {
    "collapsed": true
   },
   "outputs": [],
   "source": [
    "def sigmoid(x, derif=False):\n",
    "    if derif==True:\n",
    "        return sigmoid(x)*(1-sigmoid(x))\n",
    "    return 1/(1+np.exp(-x))"
   ]
  },
  {
   "cell_type": "code",
   "execution_count": null,
   "metadata": {
    "collapsed": true
   },
   "outputs": [],
   "source": []
  },
  {
   "cell_type": "code",
   "execution_count": null,
   "metadata": {
    "collapsed": true
   },
   "outputs": [],
   "source": []
  },
  {
   "cell_type": "code",
   "execution_count": null,
   "metadata": {
    "collapsed": true
   },
   "outputs": [],
   "source": []
  },
  {
   "cell_type": "code",
   "execution_count": null,
   "metadata": {
    "collapsed": true
   },
   "outputs": [],
   "source": [
    "#Initialization changed - hegman12\n",
    "W1 = np.random.random((2,3))\n",
    "W2 = np.random.random((3,1))\n",
    "\n",
    "#Bias - hegman12\n",
    "bias1=-1\n",
    "bias2=-1\n",
    "\n",
    "alpha = 0.01\n",
    "costs = []\n",
    "\n",
    "#for reproducibility - hegman12\n",
    "np.random.seed(10)\n",
    "\n",
    "for i in range(20000):\n",
    "ri = np.random.randint(len(X))\n",
    "m = X[ri]\n",
    "\n",
    "m = m.reshape(1, len(m))\n",
    "#adding the bias term\n",
    "#m = np.column_stack([-np.ones(shape=(len(m), 1)), m])\n",
    "#I2 = m*W1\n",
    "\n",
    "#added bias1 - hegman12\n",
    "I2 = m.dot(W1)+bias1\n",
    "#adding the bias term\n",
    "#I2 = np.column_stack([-np.ones(shape=(len(I2), 1)), I2])\n",
    "#Y2 = sigmoid(np.sum(I2))\n",
    "Y2 = sigmoid(I2)\n",
    "#Y2 = np.column_stack([-np.ones(shape=(len(Y2), 1)), Y2])\n",
    "\n",
    "# I3 is your prediction\n",
    "I3 = Y2.dot(W2)+bias2\n",
    "#I3 = Y2*W2\n",
    "\n",
    "#Hypothesis\n",
    "\n",
    "#Last layer will not have activation, unless you are trying binary classification \n",
    "# in which case squared error is not sessessary. - hegman12\n",
    "\n",
    "#Y3 = sigmoid(I3)\n",
    "#J = (1/2)*np.square(y[ri] - Y3)\n",
    "\n",
    "# J is your error, specifically squared error    - hegman12\n",
    "J = np.square(I3-y[ri])\n",
    "costs.append(np.asscalar(J))\n",
    "#costs.append(J)\n",
    "\n",
    "if i%1000==0:        \n",
    "    print(\"predicted\",I3.flatten(),\"Actual\",y[ri])    \n",
    "    print(\"error is\",J)\n",
    "\n",
    "#derivative of squared error wrt I3 - hegman12\n",
    "dI3 = 2*(I3-y[ri])*J\n",
    "np.clip(dI3,-100,100,out=dI3)\n",
    "\n",
    "#Note dot product multiplication here - hegman12\n",
    "dw2=np.dot(Y2.T,dI3)\n",
    "dY2=np.dot(W2,dI3)\n",
    "dbias2=np.sum(bias2)\n",
    "\n",
    "#W2 = W2 + alpha*dw2\n",
    "# See update changed - hegman12\n",
    "W2 = W2 - alpha*dw2\n",
    "bias2=bias2-alpha*dbias2\n",
    "\n",
    "#Note elementwise multiplication here - hegman12\n",
    "dI2=sigmoid(I2, True) * dY2.T\n",
    "\n",
    "#note dot product here - hegman12\n",
    "dw1=np.dot(m.T,dI2)\n",
    "dbias1=np.sum(bias1)\n",
    "#dm Not nessessary, but for clarity only\n",
    "dm=np.dot(W1,dI2.T)    \n",
    "\n",
    "#delta2 = -1*(np.sum(delta3*W2)) * sigmoid(I2, True)\n",
    "#D2 = -1*np.sum(delta2*m)*sigmoid(I2, True)\n",
    "\n",
    "#W2 = W2 + alpha*D3\n",
    "#W1 = W1 - alpha*D2\n",
    "\n",
    "#see how update rule changed - hegman12\n",
    "W1 = W1 - alpha*dw1\n",
    "bias1=bias1-alpha*dbias1"
   ]
  }
 ],
 "metadata": {
  "kernelspec": {
   "display_name": "Python 3",
   "language": "python",
   "name": "python3"
  },
  "language_info": {
   "codemirror_mode": {
    "name": "ipython",
    "version": 3
   },
   "file_extension": ".py",
   "mimetype": "text/x-python",
   "name": "python",
   "nbconvert_exporter": "python",
   "pygments_lexer": "ipython3",
   "version": "3.6.1"
  }
 },
 "nbformat": 4,
 "nbformat_minor": 2
}
