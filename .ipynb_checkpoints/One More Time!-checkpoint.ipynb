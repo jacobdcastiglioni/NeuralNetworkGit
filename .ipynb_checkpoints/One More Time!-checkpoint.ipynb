{
 "cells": [
  {
   "cell_type": "code",
   "execution_count": 1,
   "metadata": {
    "collapsed": true
   },
   "outputs": [],
   "source": [
    "import numpy as np\n",
    "import pandas as pd\n",
    "import matplotlib.pyplot as plt\n",
    "%matplotlib inline"
   ]
  },
  {
   "cell_type": "code",
   "execution_count": 2,
   "metadata": {
    "collapsed": true
   },
   "outputs": [],
   "source": [
    "data = pd.read_csv('/Users/jacobcastiglioni/Desktop/machine-learning-ex2/ex2/ex2data1.txt', header=None)\n",
    "data = data.as_matrix()"
   ]
  },
  {
   "cell_type": "code",
   "execution_count": 3,
   "metadata": {
    "collapsed": true
   },
   "outputs": [],
   "source": [
    "data = np.array([[3,  1.5, 1], \n",
    "         [2,  1,   0], \n",
    "         [4,  1.5, 1], \n",
    "         [2.5,  1, 0],\n",
    "         [3.5,0.5, 1],\n",
    "         [2,  0.5, 0],\n",
    "         [5.5,1,   1],\n",
    "         [1,  1,   0]])"
   ]
  },
  {
   "cell_type": "code",
   "execution_count": 4,
   "metadata": {},
   "outputs": [
    {
     "data": {
      "image/png": "[encoded data removed]",
      "text/plain": [
       "<matplotlib.figure.Figure at 0x113bbb8d0>"
      ]
     },
     "metadata": {},
     "output_type": "display_data"
    }
   ],
   "source": [
    "for i in range(len(data)):\n",
    "    point = data[i]\n",
    "    marker = 'x'\n",
    "    color = 'r'\n",
    "    if point[2] == 1:\n",
    "        marker = 'o'\n",
    "        color = 'b'\n",
    "    plt.scatter(point[0], point[1], c = color, marker = marker)"
   ]
  },
  {
   "cell_type": "code",
   "execution_count": 5,
   "metadata": {
    "collapsed": true
   },
   "outputs": [],
   "source": [
    "def sigmoid(x, der=False):\n",
    "    if der==True:\n",
    "        return sigmoid(x) * (1-sigmoid(x))\n",
    "    return 1/(1+np.exp(-x))"
   ]
  },
  {
   "cell_type": "code",
   "execution_count": null,
   "metadata": {
    "collapsed": true
   },
   "outputs": [],
   "source": []
  },
  {
   "cell_type": "code",
   "execution_count": 6,
   "metadata": {
    "collapsed": true
   },
   "outputs": [],
   "source": [
    "#regularlized X\n",
    "X = (data[:,0:2] - np.mean(data[:,0:2]))/np.std(data[:,0:2])\n",
    "y = data[:,2:3]"
   ]
  },
  {
   "cell_type": "code",
   "execution_count": 7,
   "metadata": {
    "scrolled": true
   },
   "outputs": [
    {
     "data": {
      "text/plain": [
       "[<matplotlib.lines.Line2D at 0x1171471d0>]"
      ]
     },
     "execution_count": 7,
     "metadata": {},
     "output_type": "execute_result"
    },
    {
     "data": {
      "image/png": "[encoded data removed]",
      "text/plain": [
       "<matplotlib.figure.Figure at 0x1170cd3c8>"
      ]
     },
     "metadata": {},
     "output_type": "display_data"
    }
   ],
   "source": [
    "theta = np.random.random((1,2))\n",
    "b = 1 #np.random.rand()\n",
    "alpha = 0.25\n",
    "costs = []\n",
    "\n",
    "for i in range(10000):\n",
    "    ri = np.random.randint(len(X))\n",
    "    m = X[ri]\n",
    "    m = m.reshape(1, len(m))\n",
    "    z = m.dot(theta.T) + b\n",
    "    \n",
    "    hypo = sigmoid(z)\n",
    "    cost = np.square(hypo-y[ri])\n",
    "    \n",
    "    if i % 10 == 0:\n",
    "        costs.append(np.asscalar(cost))\n",
    "    \n",
    "    dcost_dhypo = 2 * (hypo-y[ri])\n",
    "    dpred_dz = sigmoid(z, True)\n",
    "    \n",
    "    dz_dtheta = m\n",
    "    dz_db = 1\n",
    "    \n",
    "    dcost_dz = dcost_dhypo * dpred_dz\n",
    "    dcost_dtheta = dcost_dz * dz_dtheta\n",
    "    dcost_db = dcost_dz * dz_db\n",
    "    \n",
    "    theta = theta - (alpha*dcost_dtheta)\n",
    "    b = b - (alpha*dcost_db)\n",
    "    \n",
    "plt.plot(costs)"
   ]
  },
  {
   "cell_type": "code",
   "execution_count": null,
   "metadata": {
    "collapsed": true
   },
   "outputs": [],
   "source": []
  }
 ],
 "metadata": {
  "kernelspec": {
   "display_name": "Python 3",
   "language": "python",
   "name": "python3"
  },
  "language_info": {
   "codemirror_mode": {
    "name": "ipython",
    "version": 3
   },
   "file_extension": ".py",
   "mimetype": "text/x-python",
   "name": "python",
   "nbconvert_exporter": "python",
   "pygments_lexer": "ipython3",
   "version": "3.6.1"
  }
 },
 "nbformat": 4,
 "nbformat_minor": 2
}
